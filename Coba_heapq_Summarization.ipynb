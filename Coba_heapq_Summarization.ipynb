{
  "nbformat": 4,
  "nbformat_minor": 0,
  "metadata": {
    "colab": {
      "name": "Coba heapq Summarization",
      "provenance": [],
      "collapsed_sections": []
    },
    "kernelspec": {
      "name": "python3",
      "display_name": "Python 3"
    },
    "language_info": {
      "name": "python"
    }
  },
  "cells": [
    {
      "cell_type": "code",
      "metadata": {
        "colab": {
          "base_uri": "https://localhost:8080/"
        },
        "id": "ZnUyUwVaVcf2",
        "outputId": "041a86f3-59e9-4d8c-e1d6-076da845d687"
      },
      "source": [
        "!pip install sastrawi \n",
        "!pip install newspaper3k \n",
        "\n",
        "import spacy \n",
        "from string import punctuation\n",
        "from newspaper import Article \n",
        "from nltk import sent_tokenize\n",
        "\n",
        "nltk.download('punkt')"
      ],
      "execution_count": null,
      "outputs": [
        {
          "output_type": "stream",
          "name": "stdout",
          "text": [
            "Requirement already satisfied: sastrawi in /usr/local/lib/python3.7/dist-packages (1.0.1)\n",
            "Requirement already satisfied: newspaper3k in /usr/local/lib/python3.7/dist-packages (0.2.8)\n",
            "Requirement already satisfied: tldextract>=2.0.1 in /usr/local/lib/python3.7/dist-packages (from newspaper3k) (3.1.2)\n",
            "Requirement already satisfied: beautifulsoup4>=4.4.1 in /usr/local/lib/python3.7/dist-packages (from newspaper3k) (4.6.3)\n",
            "Requirement already satisfied: requests>=2.10.0 in /usr/local/lib/python3.7/dist-packages (from newspaper3k) (2.23.0)\n",
            "Requirement already satisfied: PyYAML>=3.11 in /usr/local/lib/python3.7/dist-packages (from newspaper3k) (3.13)\n",
            "Requirement already satisfied: feedfinder2>=0.0.4 in /usr/local/lib/python3.7/dist-packages (from newspaper3k) (0.0.4)\n",
            "Requirement already satisfied: nltk>=3.2.1 in /usr/local/lib/python3.7/dist-packages (from newspaper3k) (3.2.5)\n",
            "Requirement already satisfied: Pillow>=3.3.0 in /usr/local/lib/python3.7/dist-packages (from newspaper3k) (7.1.2)\n",
            "Requirement already satisfied: tinysegmenter==0.3 in /usr/local/lib/python3.7/dist-packages (from newspaper3k) (0.3)\n",
            "Requirement already satisfied: feedparser>=5.2.1 in /usr/local/lib/python3.7/dist-packages (from newspaper3k) (6.0.8)\n",
            "Requirement already satisfied: python-dateutil>=2.5.3 in /usr/local/lib/python3.7/dist-packages (from newspaper3k) (2.8.2)\n",
            "Requirement already satisfied: lxml>=3.6.0 in /usr/local/lib/python3.7/dist-packages (from newspaper3k) (4.2.6)\n",
            "Requirement already satisfied: cssselect>=0.9.2 in /usr/local/lib/python3.7/dist-packages (from newspaper3k) (1.1.0)\n",
            "Requirement already satisfied: jieba3k>=0.35.1 in /usr/local/lib/python3.7/dist-packages (from newspaper3k) (0.35.1)\n",
            "Requirement already satisfied: six in /usr/local/lib/python3.7/dist-packages (from feedfinder2>=0.0.4->newspaper3k) (1.15.0)\n",
            "Requirement already satisfied: sgmllib3k in /usr/local/lib/python3.7/dist-packages (from feedparser>=5.2.1->newspaper3k) (1.0.0)\n",
            "Requirement already satisfied: urllib3!=1.25.0,!=1.25.1,<1.26,>=1.21.1 in /usr/local/lib/python3.7/dist-packages (from requests>=2.10.0->newspaper3k) (1.24.3)\n",
            "Requirement already satisfied: idna<3,>=2.5 in /usr/local/lib/python3.7/dist-packages (from requests>=2.10.0->newspaper3k) (2.10)\n",
            "Requirement already satisfied: chardet<4,>=3.0.2 in /usr/local/lib/python3.7/dist-packages (from requests>=2.10.0->newspaper3k) (3.0.4)\n",
            "Requirement already satisfied: certifi>=2017.4.17 in /usr/local/lib/python3.7/dist-packages (from requests>=2.10.0->newspaper3k) (2021.5.30)\n",
            "Requirement already satisfied: filelock>=3.0.8 in /usr/local/lib/python3.7/dist-packages (from tldextract>=2.0.1->newspaper3k) (3.3.0)\n",
            "Requirement already satisfied: requests-file>=1.4 in /usr/local/lib/python3.7/dist-packages (from tldextract>=2.0.1->newspaper3k) (1.5.1)\n",
            "[nltk_data] Downloading package punkt to /root/nltk_data...\n",
            "[nltk_data]   Package punkt is already up-to-date!\n"
          ]
        },
        {
          "output_type": "execute_result",
          "data": {
            "text/plain": [
              "True"
            ]
          },
          "metadata": {},
          "execution_count": 136
        }
      ]
    },
    {
      "cell_type": "code",
      "metadata": {
        "id": "kLCaD3pFavHY"
      },
      "source": [
        "from spacy.lang.id.stop_words import STOP_WORDS"
      ],
      "execution_count": null,
      "outputs": []
    },
    {
      "cell_type": "code",
      "metadata": {
        "id": "mGYYjZ2zW_qu"
      },
      "source": [
        "def load_stopWords():\n",
        "\turl = \"https://raw.githubusercontent.com/Wayan123/Sentiment-Analysis/main/stopwordlist.txt\"\n",
        "\tina_stopword = requests.get(url).content\n",
        "\treturn ina_stopword.split()\n",
        "\n",
        "stopwords = load_stopWords()\n"
      ],
      "execution_count": null,
      "outputs": []
    },
    {
      "cell_type": "code",
      "metadata": {
        "colab": {
          "base_uri": "https://localhost:8080/"
        },
        "id": "Ts2YbbBF9_rP",
        "outputId": "5eef34d5-02c6-494f-d1bb-d895856b8cfb"
      },
      "source": [
        "print(stopwords)"
      ],
      "execution_count": null,
      "outputs": [
        {
          "output_type": "stream",
          "name": "stdout",
          "text": [
            "[b'zahwa', b'laweyan', b'sriwedari', b'sang', b'aantasyaf', b'menurutku', b'chi', b'partecipa', b'al', b'tuo', b'piacere', b'ma', b'non', b'al', b'la', b'doloreperde', b'chiave', b'una', b'delle', b'sette', b'portedel', b'paradisopuoi', b'dimenticare', b'persona', b'con', b'cui', b'hai', b'piantokhalil', b'gibranangelo', b'tristesecoloartista', b'sconosciuto', b'a', b'ada', b'aja', b'adalah', b'adakah', b'adanya', b'adapun', b'agak', b'agaknya', b'agar', b'akan', b'akankah', b'akhir', b'akhiri', b'akhirilah', b'akhirnya', b'aku', b'akulah', b'akupun', b'amat', b'amati', b'amatilah', b'amatlah', b'anda', b'andalah', b'antar', b'antara', b'antaranya', b'apa', b'apaan', b'apabila', b'apakah', b'apalagi', b'apalah', b'apatah', b'arti', b'artinya', b'asal', b'asalkan', b'asalnya', b'atas', b'atasi', b'atasnya', b'atau', b'ataukah', b'ataupun', b'awal', b'awalnya', b'bagai', b'bagaikan', b'bagaimana', b'bagaimanakah', b'bagaimanapun', b'bagi', b'bagian', b'bahkan', b'bahwa', b'bahwasanya', b'baik', b'baiklah', b'baiknya', b'bakal', b'bakalan', b'balik', b'banyak', b'banyaknya', b'bapak', b'bapaknya', b'baru', b'barulah', b'bawah', b'bawahan', b'beberapa', b'begini', b'beginian', b'beginikah', b'beginilah', b'beginipun', b'begitu', b'begitukah', b'begitulah', b'begitupun', b'bekerja', b'belakang', b'belakangan', b'belas', b'belum', b'belumlah', b'benar', b'benarkah', b'benarlah', b'benarnya', b'berada', b'berakhir', b'berakhirlah', b'berakhirnya', b'berakhirpun', b'berapa', b'berapakah', b'berapalah', b'berapapun', b'berarti', b'berasal', b'berawal', b'berbagai', b'berbagi', b'berdatangan', b'berdekatan', b'berguna', b'beri', b'berikan', b'berilah', b'berikut', b'berikutnya', b'berisi', b'berjumlah', b'berkala', b'berkali', b'berkata', b'berkatalah', b'berkehendak', b'berkeinginan', b'berkenaan', b'berlainan', b'berlalu', b'berlangsung', b'berlebihan', b'berlebih', b'bermaksud', b'bermula', b'bersama', b'bersiap', b'bertanya', b'berturut', b'bertutur', b'berujar', b'berupa', b'besar', b'besarnya', b'betul', b'betulkah', b'betulnya', b'biasa', b'biasalah', b'biasanya', b'bila', b'bilakah', b'bisa', b'bisakah', b'boleh', b'bolehkah', b'bolehlah', b'buat', b'buatnya', b'bukan', b'bukankah', b'bukanlah', b'bukannya', b'bulan', b'bulanan', b'bung', b'cara', b'caranya', b'cukup', b'cukupkah', b'cukuplah', b'cuma', b'dahulu', b'dalam', b'dalamnya', b'dan', b'dapat', b'dapatlah', b'dapatkah', b'dari', b'dr', b'darinya', b'daripada', b'datang', b'datanglah', b'datangnya', b'dekat', b'delapan', b'delapannya', b'demi', b'demikian', b'demikianlah', b'dengan', b'denganku', b'denganmu', b'dengannya', b'depan', b'depanku', b'depanmu', b'depannya', b'di', b'dia', b'diakhir', b'diakhiri', b'diakhirinya', b'diakhirilah', b'dialah', b'diakah', b'dianya', b'diapun', b'diantara', b'diantaranya', b'diberi', b'diberikan', b'diberikannya', b'diberilah', b'diberinya', b'dibuat', b'dibuatkan', b'dibuatkannya', b'dibuatlah', b'dibuatnya', b'didapat', b'didapatkan', b'didatangkan', b'digunakan', b'digunakanlah', b'digunakannya', b'diibaratkan', b'diibaratkannya', b'diingat', b'diingatnya', b'diingatkan', b'diinginkan', b'diinginkannya', b'dijawab', b'dijawablah', b'dijawabnya', b'dijelaskan', b'dijelaskanlah', b'dijelaskannya', b'dikarenakan', b'dikarenakannya', b'dikala', b'dikatakan', b'dikatakanlah', b'dikatakannya', b'dikeluarkan', b'dikeluarkannya', b'dikerjakan', b'dikerjakannya', b'diketahui', b'diketahuilah', b'diketahuinya', b'dikira', b'dikiranya', b'dilakukan', b'dilakukannya', b'dilakukanlah', b'dilalui', b'dilaluinya', b'dilihat', b'dilihatnya', b'dimaksud', b'dimaksudkan', b'dimaksudkannya', b'dimaksudnya', b'diminta', b'dimintai', b'dimintanya', b'dimisalkan', b'dimisalkannya', b'dimulai', b'dimulailah', b'dimulainya', b'dimungkinkan', b'dini', b'dipastikan', b'dipastikannya', b'diperbuat', b'diperbuatnya', b'dipergunakan', b'dipergunakannya', b'diperkirakan', b'diperkirakannya', b'diperlihatkan', b'diperlihatkanlah', b'diperlukan', b'diperlukannya', b'dipersoalkan', b'dipertanyakan', b'dipunyai', b'dipunyainya', b'diri', b'dirinya', b'disampaikan', b'disampaikanlah', b'disampaikannya', b'disebut', b'disebutkan', b'disebutkannya', b'disini', b'disinilah', b'disinikah', b'ditambahkan', b'ditandaskan', b'ditanya', b'ditanyai', b'ditanyakan', b'ditanyakanlah', b'ditanyakannya', b'ditegaskan', b'ditujukan', b'ditunjuk', b'ditunjuki', b'ditunjukkan', b'ditunjukkannya', b'ditunjuknya', b'dituturkan', b'dituturkannya', b'diucapkan', b'diucapkannya', b'diungkapkan', b'diungkapkannya', b'dlm', b'dong', b'dua', b'duanya', b'dulu', b'dulunya', b'empat', b'empatnya', b'enam', b'enamnya', b'enggak', b'enggaknya', b'entah', b'entahlah', b'for', b'gak', b'guna', b'gunakan', b'gunanya', b'hal', b'halnya', b'hampir', b'hanya', b'hanyalah', b'hari', b'harian', b'harus', b'haruskah', b'haruslah', b'harusnya', b'hendak', b'hendaklah', b'hendaknya', b'hingga', b'ia', b'ialah', b'ibarat', b'ibaratkan', b'ibaratnya', b'ibu', b'ibunya', b'ikut', b'ikuti', b'ikutilah', b'ingat', b'ingatkan', b'ingatlah', b'ingatnya', b'ingin', b'inginkah', b'inginkan', b'inginnya', b'ini', b'inikah', b'inilah', b'inipun', b'itu', b'itukah', b'itulah', b'itupun', b'jadi', b'jadikan', b'jadilah', b'jadinya', b'jangan', b'jangankan', b'janganlah', b'jauh', b'jauhnya', b'jauhkah', b'jawab', b'jawaban', b'jawablah', b'jawabnya', b'jelas', b'jelaskan', b'jelaskanlah', b'jelaslah', b'jelasnya', b'jika', b'jikalau', b'juga', b'jumlah', b'jumlahnya', b'justru', b'kala', b'kalau', b'kalaulah', b'kalaupun', b'kalian', b'kalian', b'kami', b'kamilah', b'kamu', b'kamulah', b'kan', b'kapan', b'kapankah', b'kapanpun', b'karena', b'karenanya', b'kasus', b'kasusnya', b'kata', b'katakan', b'katakanlah', b'katanya', b'ke', b'keadaan', b'keadaannya', b'keadaannyalah', b'kebetulan', b'kebetulankah', b'kecil', b'kecilnya', b'kedelapan', b'kedua', b'keduanya', b'keduluan', b'keempat', b'keenam', b'ketujuh', b'kesembilan', b'kesepuluh', b'keinginan', b'keinginannya', b'kelamaan', b'kelihatan', b'kelihatannya', b'kelima', b'keluar', b'kembali', b'kemudian', b'kemungkinan', b'kemungkinannya', b'kenapa', b'kepada', b'kepadanya', b'kesampaian', b'keseluruhan', b'keseluruhannya', b'kesana', b'kesini', b'kesitu', b'keterlaluan', b'ketika', b'kg', b'khusus', b'khususnya', b'kini', b'kinilah', b'kira', b'kiranya', b'kita', b'kitalah', b'kok', b'kurang', b'kurangnya', b'lagi', b'lagian', b'lah', b'lain', b'lainnya', b'lalu', b'lama', b'lamanya', b'lanjut', b'lanjutnya', b'lebih', b'lebihnya', b'lembaranfana', b'lewat', b'lima', b'limanya', b'lu', b'luar', b'luarnya', b'm', b'macam', b'macamnya', b'maka', b'makanya', b'makin', b'malah', b'malahan', b'mampu', b'mampukah', b'mana', b'manakala', b'manalagi', b'mas', b'masa', b'masalah', b'masalahnya', b'masih', b'masihkah', b'masing', b'mau', b'maupun', b'melainkan', b'melakukan', b'melalui', b'melihat', b'melihatnya', b'memang', b'memastikan', b'memberi', b'memberikan', b'membuat', b'memerlukan', b'memihak', b'meminta', b'memintakan', b'memisalkan', b'memperbuat', b'mempergunakan', b'memperkirakan', b'memperlihatkan', b'mempersiapkan', b'mempersoalkan', b'mempertanyakan', b'mempunyai', b'memulai', b'memungkinkan', b'menaiki', b'menambahkan', b'menandaskan', b'menanti', b'menantikan', b'menanya', b'menanyai', b'menanyakan', b'mendapat', b'mendapatkan', b'mendatang', b'mendatangi', b'mendatangkan', b'menegaskan', b'mengakhiri', b'mengapa', b'mengatakan', b'mengatakannya', b'mengatasi', b'mengawali', b'mengenai', b'mengerjakan', b'mengetahui', b'menggunakan', b'menghendaki', b'mengibaratkan', b'mengibaratkannya', b'mengingat', b'mengingatkan', b'menginginkan', b'mengira', b'mengucapkan', b'mengucapkannya', b'mengungkapkan', b'menjadi', b'menjawab', b'menjelaskan', b'menuju', b'menunjuk', b'menunjuki', b'menunjukkan', b'menunjuknya', b'menurut', b'menuturkan', b'menyampaikan', b'menyangkut', b'menyatakan', b'menyebutkan', b'menyeluruh', b'menyiapkan', b'merasa', b'mereka', b'merekalah', b'merupakan', b'meski', b'meskipun', b'meyakini', b'meyakinkan', b'minta', b'mirip', b'misal', b'misalkan', b'misalnya', b'mu', b'mula', b'mulai', b'mulailah', b'mulanya', b'mungkin', b'mungkinkah', b'nah', b'naik', b'namun', b'nanti', b'nantinya', b'nya', b'nyaris', b'nyatanya', b'oleh', b'olehnya', b'one', b'pada', b'padahal', b'padanya', b'pak', b'paling', b'panjang', b'pantas', b'para', b'pasti', b'pastilah', b'penting', b'pentingnya', b'per', b'percuma', b'perlu', b'perlukah', b'perlunya', b'pernah', b'persoalan', b'pertama', b'pertanyaan', b'pertanyakan', b'pihak', b'pihaknya', b'pukul', b'pula', b'pun', b'punya', b'rasa', b'rasanya', b'rata', b'rupanya', b'saat', b'saatnya', b'saja', b'sajalah', b'saling', b'sama', b'sambil', b'sampai', b'sampaikan', b'sana', b'sangat', b'sangatlah', b'satu', b'saya', b'sayalah', b'se', b'sebab', b'sebabnya', b'sebagai', b'sebagaimana', b'sebagainya', b'sebagian', b'sebaik', b'sebaiknya', b'sebaliknya', b'sebanyak', b'sebegini', b'sebegitu', b'sebelum', b'sebelumnya', b'sebenarnya', b'seberapa', b'sebesar', b'sebetulnya', b'sebisanya', b'sebuah', b'sebut', b'sebutlah', b'sebutnya', b'secara', b'secukupnya', b'sedang', b'sedangkan', b'sedemikian', b'sedikit', b'sedikitnya', b'seenaknya', b'segala', b'segalanya', b'segera', b'seharusnya', b'sehingga', b'seingat', b'sejak', b'sejauh', b'sejenak', b'sejumlah', b'sekadar', b'sekadarnya', b'sekali', b'sekalian', b'sekaligus', b'sekalipun', b'sekarang', b'sekecil', b'seketika', b'sekiranya', b'sekitar', b'sekitarnya', b'sekurangnya', b'sela', b'selain', b'selaku', b'selalu', b'selama', b'selamanya', b'selanjutnya', b'seluruh', b'seluruhnya', b'semacam', b'semakin', b'semampu', b'semampunya', b'semasa', b'semasih', b'semata', b'semata-mata', b'semaunya', b'sementara', b'semisal', b'semisalnya', b'sempat', b'semua', b'semuanya', b'semula', b'sendiri', b'sendirian', b'sendirinya', b'seolah', b'seolah-olah', b'seorang', b'sepanjang', b'sepantasnya', b'sepantasnyalah', b'seperlunya', b'seperti', b'sepertinya', b'sepihak', b'sepuluh', b'sering', b'seringnya', b'serta', b'serupa', b'sesaat', b'sesama', b'sesampai', b'sesegera', b'sesekali', b'seseorang', b'sesuatu', b'sesuatunya', b'sesudah', b'sesudahnya', b'setelah', b'seterusnya', b'setiap', b'setempat', b'setengah', b'setiba', b'setibanya', b'setidaknya', b'setinggi', b'seusai', b'sewaktu', b'siap', b'siapa', b'siapakah', b'siapapun', b'sini', b'sing', b'sinilah', b'si', b'sih', b'soal', b'soalnya', b'suatu', b'sudah', b'sudahkah', b'sudahlah', b'supaya', b'tadi', b'tadinya', b'tahu', b'tahun', b'tahunan', b'tak', b'tdk', b'tambah', b'tambahnya', b'tampak', b'tampaknya', b'tandas', b'tandasnya', b'tanpa', b'tanya', b'tanyakan', b'tanyanya', b'tapi', b'tegas', b'tegasnya', b'telah', b'tempat', b'tengah', b'tentang', b'tentu', b'tentulah', b'tentunya', b'tepat', b'terakhir', b'terasa', b'terbanyak', b'terdahulu', b'terdapat', b'terdiri', b'terhadap', b'terhadapnya', b'teringat', b'terjadi', b'terjadilah', b'terjadinya', b'terkira', b'terlalu', b'terlebih', b'terlihat', b'termasuk', b'ternyata', b'tersampaikan', b'tersebut', b'tersebutlah', b'tertentu', b'tertinggi', b'tertuju', b'terus', b'terutama', b'tetap', b'tetapi', b'the', b'tiap', b'tiba', b'tidak', b'tidakkah', b'tidaklah', b'tiga', b'tinggi', b'theladies', b'toh', b'tujuh', b'tujuhnya', b'tunjuk', b'turut', b'tutur', b'tuturnya', b'ucap', b'ucapnya', b'ujar', b'ujarnya', b'umum', b'umumnya', b'ungkap', b'ungkapnya', b'untuk', b'usah', b'usai', b'up', b'waduh', b'wah', b'wahai', b'waktu', b'waktunya', b'walau', b'walaupun', b'wong', b'yaitu', b'yakin', b'yakni', b'yang', b'yuk', b'yg', b'yaa', b'ye']\n"
          ]
        }
      ]
    },
    {
      "cell_type": "code",
      "metadata": {
        "colab": {
          "base_uri": "https://localhost:8080/"
        },
        "id": "Cjzv--HIYP51",
        "outputId": "f71d9b12-1758-403c-f38f-7e22bda52ec9"
      },
      "source": [
        "('menurutku') in stopwords"
      ],
      "execution_count": null,
      "outputs": [
        {
          "output_type": "execute_result",
          "data": {
            "text/plain": [
              "False"
            ]
          },
          "metadata": {},
          "execution_count": 157
        }
      ]
    },
    {
      "cell_type": "code",
      "metadata": {
        "id": "FDqh8f29Y0Tk"
      },
      "source": [
        "\n",
        "nlp = spacy.blank('id')"
      ],
      "execution_count": null,
      "outputs": []
    },
    {
      "cell_type": "code",
      "metadata": {
        "colab": {
          "base_uri": "https://localhost:8080/"
        },
        "id": "7Djg6sbvanbM",
        "outputId": "4d59fd88-855c-470d-a237-2531e73feffd"
      },
      "source": [
        "text = Article('https://mediaindonesia.com/humaniora/442415/pekan-kebudayaan-nasional-2021-dibuka', 'https://www.kompas.com/edu/read/2021/10/27/101101471/mahasiswa-hingga-peneliti-indonesia-belanda-berkolaborasi-di-pekan')\n",
        "text.download()\n",
        "text.parse()\n",
        "text = doc.text\n",
        "\n",
        "print(text)"
      ],
      "execution_count": null,
      "outputs": [
        {
          "output_type": "stream",
          "name": "stdout",
          "text": [
            "KEBUDAYAAN merupakan cara menyatukan gerak langkah membangun Indonesia tangguh dan tumbuh. Hal itu dikemukakan oleh Menteri Pendidikan Kebudayaan Riset Dan Teknologi Nadiem Makarim saat membuka Pekan Kebudayaan Nasional 2021, Senin (25/10) malam.\n",
            "\n",
            "\"Bersama sama kita telah melewati masa masa yang penuh dengan tantangan dan Bersama pula kita lompat ke harapan yang baru,\" ucapnya saat memberikan sambutan dalam acara Pekan Kebudayaan Nasional 2021 dengan tema Cerlang Nusantara Pandu Masa Depan, secara virtual zoom.\n",
            "\n",
            "Pelaksanaan PKN 2021 akan dimulai pada 19-26 November 2021 secara daring di website www.PKN.id. Tahun ini menjadi tahun ketiga pagelaran akbar PKN itu dilakukan secara daring dikarenakan pandemi covid-19.\n",
            "\n",
            "Nadiem mengatakan, PKN 2021 merupakan ruang kebudayaan yang inklusif dan inisiatif yang selama ini tersebar di seluruh negeri. Melalui PKN, hal tersebut menjadi waktu terbaik untuk merancang tata hidup baru yang lebih berkelanjutan dengan berlandaskan budaya bangsa\n",
            "\n",
            "\"Semangat inilah yang terungkap melalui tema PKN 2021 yakni Cerlang Nusantara, Pandu Masa Depan,\" ucapnya.\n",
            "\n",
            "Direktur Jenderal Kebudayaan Kemendikbud-Ristek, Hilmar Farid mengatakan dalam kegiatan PKN tahun ini telah ditunjuk beberapa dewan kurator, yakni Samuel Wattimena untuk sektor sandang, Helianti Hilman di sektor pangan, dan Gregorius Antar Awal di sektor papan.\n",
            "\n",
            "PKN juga melibatkan insan-insan kreatif dalam tayangannya, seperti Riri Reza, Pritagita, Hanung Bramantyo, Jay Subyakto, Lasja Susatyo, Ismael Basbeth, Eugene Panji, Robby ertanto, Buyungreza, Adrianto Sinaga, Leon Lolang, Richard Buntario, Raymond Ahari.\n",
            "\n",
            "Senada dengan Nadiem, Hilmar mengatakan, masalah utama yang disoroti dalam PKN 2021 adalah gaya hidup dan pola konsumsi yang berlebihan yang ikut membentuk pola produksi yang tidak berkelanjutan.\n",
            "\n",
            "Menurutnya, kebutuhan paling mendasar seperti industri sandang, dewasa ini digerakkan oleh model busana cepat atau fast fashion. Hal itu mendorong pergantian tren setiap beberapa minggu, hal ini mengakibatkan tingginya biaya karbon industri busana dan penumpukan limbah yang merusak lingkungan.\n",
            "\n",
            "\"Gambaran serupa juga kita temukan di industri pangan dunia yang saat ini digerakkan ole model pertanian monokultur, model pertanian ini mengejar peningkatan laba dengan mengorbankan tingkat nutrisi ataupun daya dukung lingkungan,\" jelas Hilmar.\n",
            "\n",
            "Begitu juga industri papan global yang saat ini digerakkan oleh sepenuhnya oleh pasar dan tercipta keseragaman. Menurutnya, pecinta gaya hidup itu berarti meningaalkan praktek yang tidak berkelanjutan dalam sandang, pangan dan papan.\n",
            "\n",
            "\"Dan disinilah kebudayaan menjadi sumber budaya dan sumber inspirasi. PKN 20201 hadir untuk mengawali perubahan gaya hidup, putar haluan dari segala gaya hidup lama yang tidak berkelanjutan, temukan arus kebudayaan dari bawah yang akan melontarkan kita ke masa depan maju, ke cerah hidup baru yang bereklanjutan,\" pungkasnya. (H-2)\n"
          ]
        }
      ]
    },
    {
      "cell_type": "code",
      "metadata": {
        "colab": {
          "base_uri": "https://localhost:8080/"
        },
        "id": "fxbpKhiWm32k",
        "outputId": "cf5e7130-4592-418c-c01a-19169b224449"
      },
      "source": [
        "doc  = nlp(text)\n",
        "print(doc)"
      ],
      "execution_count": null,
      "outputs": [
        {
          "output_type": "stream",
          "name": "stdout",
          "text": [
            "KEBUDAYAAN merupakan cara menyatukan gerak langkah membangun Indonesia tangguh dan tumbuh. Hal itu dikemukakan oleh Menteri Pendidikan Kebudayaan Riset Dan Teknologi Nadiem Makarim saat membuka Pekan Kebudayaan Nasional 2021, Senin (25/10) malam.\n",
            "\n",
            "\"Bersama sama kita telah melewati masa masa yang penuh dengan tantangan dan Bersama pula kita lompat ke harapan yang baru,\" ucapnya saat memberikan sambutan dalam acara Pekan Kebudayaan Nasional 2021 dengan tema Cerlang Nusantara Pandu Masa Depan, secara virtual zoom.\n",
            "\n",
            "Pelaksanaan PKN 2021 akan dimulai pada 19-26 November 2021 secara daring di website www.PKN.id. Tahun ini menjadi tahun ketiga pagelaran akbar PKN itu dilakukan secara daring dikarenakan pandemi covid-19.\n",
            "\n",
            "Nadiem mengatakan, PKN 2021 merupakan ruang kebudayaan yang inklusif dan inisiatif yang selama ini tersebar di seluruh negeri. Melalui PKN, hal tersebut menjadi waktu terbaik untuk merancang tata hidup baru yang lebih berkelanjutan dengan berlandaskan budaya bangsa\n",
            "\n",
            "\"Semangat inilah yang terungkap melalui tema PKN 2021 yakni Cerlang Nusantara, Pandu Masa Depan,\" ucapnya.\n",
            "\n",
            "Direktur Jenderal Kebudayaan Kemendikbud-Ristek, Hilmar Farid mengatakan dalam kegiatan PKN tahun ini telah ditunjuk beberapa dewan kurator, yakni Samuel Wattimena untuk sektor sandang, Helianti Hilman di sektor pangan, dan Gregorius Antar Awal di sektor papan.\n",
            "\n",
            "PKN juga melibatkan insan-insan kreatif dalam tayangannya, seperti Riri Reza, Pritagita, Hanung Bramantyo, Jay Subyakto, Lasja Susatyo, Ismael Basbeth, Eugene Panji, Robby ertanto, Buyungreza, Adrianto Sinaga, Leon Lolang, Richard Buntario, Raymond Ahari.\n",
            "\n",
            "Senada dengan Nadiem, Hilmar mengatakan, masalah utama yang disoroti dalam PKN 2021 adalah gaya hidup dan pola konsumsi yang berlebihan yang ikut membentuk pola produksi yang tidak berkelanjutan.\n",
            "\n",
            "Menurutnya, kebutuhan paling mendasar seperti industri sandang, dewasa ini digerakkan oleh model busana cepat atau fast fashion. Hal itu mendorong pergantian tren setiap beberapa minggu, hal ini mengakibatkan tingginya biaya karbon industri busana dan penumpukan limbah yang merusak lingkungan.\n",
            "\n",
            "\"Gambaran serupa juga kita temukan di industri pangan dunia yang saat ini digerakkan ole model pertanian monokultur, model pertanian ini mengejar peningkatan laba dengan mengorbankan tingkat nutrisi ataupun daya dukung lingkungan,\" jelas Hilmar.\n",
            "\n",
            "Begitu juga industri papan global yang saat ini digerakkan oleh sepenuhnya oleh pasar dan tercipta keseragaman. Menurutnya, pecinta gaya hidup itu berarti meningaalkan praktek yang tidak berkelanjutan dalam sandang, pangan dan papan.\n",
            "\n",
            "\"Dan disinilah kebudayaan menjadi sumber budaya dan sumber inspirasi. PKN 20201 hadir untuk mengawali perubahan gaya hidup, putar haluan dari segala gaya hidup lama yang tidak berkelanjutan, temukan arus kebudayaan dari bawah yang akan melontarkan kita ke masa depan maju, ke cerah hidup baru yang bereklanjutan,\" pungkasnya. (H-2)\n"
          ]
        }
      ]
    },
    {
      "cell_type": "code",
      "metadata": {
        "colab": {
          "base_uri": "https://localhost:8080/"
        },
        "id": "eIcBFh7rnIgS",
        "outputId": "40a1b3ff-b01b-4839-aa7c-39d7b647abb7"
      },
      "source": [
        "#Tokenizing \n",
        "tokens = [token.text for token in doc]\n",
        "print(tokens)"
      ],
      "execution_count": null,
      "outputs": [
        {
          "output_type": "stream",
          "name": "stdout",
          "text": [
            "['KEBUDAYAAN', 'merupakan', 'cara', 'menyatukan', 'gerak', 'langkah', 'membangun', 'Indonesia', 'tangguh', 'dan', 'tumbuh', '.', 'Hal', 'itu', 'dikemukakan', 'oleh', 'Menteri', 'Pendidikan', 'Kebudayaan', 'Riset', 'Dan', 'Teknologi', 'Nadiem', 'Makarim', 'saat', 'membuka', 'Pekan', 'Kebudayaan', 'Nasional', '2021', ',', 'Senin', '(', '25', '/', '10', ')', 'malam', '.', '\\n\\n', '\"', 'Bersama', 'sama', 'kita', 'telah', 'melewati', 'masa', 'masa', 'yang', 'penuh', 'dengan', 'tantangan', 'dan', 'Bersama', 'pula', 'kita', 'lompat', 'ke', 'harapan', 'yang', 'baru', ',', '\"', 'ucapnya', 'saat', 'memberikan', 'sambutan', 'dalam', 'acara', 'Pekan', 'Kebudayaan', 'Nasional', '2021', 'dengan', 'tema', 'Cerlang', 'Nusantara', 'Pandu', 'Masa', 'Depan', ',', 'secara', 'virtual', 'zoom', '.', '\\n\\n', 'Pelaksanaan', 'PKN', '2021', 'akan', 'dimulai', 'pada', '19', '-', '26', 'November', '2021', 'secara', 'daring', 'di', 'website', 'www.PKN.id', '.', 'Tahun', 'ini', 'menjadi', 'tahun', 'ketiga', 'pagelaran', 'akbar', 'PKN', 'itu', 'dilakukan', 'secara', 'daring', 'dikarenakan', 'pandemi', 'covid', '-', '19', '.', '\\n\\n', 'Nadiem', 'mengatakan', ',', 'PKN', '2021', 'merupakan', 'ruang', 'kebudayaan', 'yang', 'inklusif', 'dan', 'inisiatif', 'yang', 'selama', 'ini', 'tersebar', 'di', 'seluruh', 'negeri', '.', 'Melalui', 'PKN', ',', 'hal', 'tersebut', 'menjadi', 'waktu', 'terbaik', 'untuk', 'merancang', 'tata', 'hidup', 'baru', 'yang', 'lebih', 'berkelanjutan', 'dengan', 'berlandaskan', 'budaya', 'bangsa', '\\n\\n', '\"', 'Semangat', 'inilah', 'yang', 'terungkap', 'melalui', 'tema', 'PKN', '2021', 'yakni', 'Cerlang', 'Nusantara', ',', 'Pandu', 'Masa', 'Depan', ',', '\"', 'ucapnya', '.', '\\n\\n', 'Direktur', 'Jenderal', 'Kebudayaan', 'Kemendikbud', '-', 'Ristek', ',', 'Hilmar', 'Farid', 'mengatakan', 'dalam', 'kegiatan', 'PKN', 'tahun', 'ini', 'telah', 'ditunjuk', 'beberapa', 'dewan', 'kurator', ',', 'yakni', 'Samuel', 'Wattimena', 'untuk', 'sektor', 'sandang', ',', 'Helianti', 'Hilman', 'di', 'sektor', 'pangan', ',', 'dan', 'Gregorius', 'Antar', 'Awal', 'di', 'sektor', 'papan', '.', '\\n\\n', 'PKN', 'juga', 'melibatkan', 'insan', '-', 'insan', 'kreatif', 'dalam', 'tayangannya', ',', 'seperti', 'Riri', 'Reza', ',', 'Pritagita', ',', 'Hanung', 'Bramantyo', ',', 'Jay', 'Subyakto', ',', 'Lasja', 'Susatyo', ',', 'Ismael', 'Basbeth', ',', 'Eugene', 'Panji', ',', 'Robby', 'ertanto', ',', 'Buyungreza', ',', 'Adrianto', 'Sinaga', ',', 'Leon', 'Lolang', ',', 'Richard', 'Buntario', ',', 'Raymond', 'Ahari', '.', '\\n\\n', 'Senada', 'dengan', 'Nadiem', ',', 'Hilmar', 'mengatakan', ',', 'masalah', 'utama', 'yang', 'disoroti', 'dalam', 'PKN', '2021', 'adalah', 'gaya', 'hidup', 'dan', 'pola', 'konsumsi', 'yang', 'berlebihan', 'yang', 'ikut', 'membentuk', 'pola', 'produksi', 'yang', 'tidak', 'berkelanjutan', '.', '\\n\\n', 'Menurutnya', ',', 'kebutuhan', 'paling', 'mendasar', 'seperti', 'industri', 'sandang', ',', 'dewasa', 'ini', 'digerakkan', 'oleh', 'model', 'busana', 'cepat', 'atau', 'fast', 'fashion', '.', 'Hal', 'itu', 'mendorong', 'pergantian', 'tren', 'setiap', 'beberapa', 'minggu', ',', 'hal', 'ini', 'mengakibatkan', 'tingginya', 'biaya', 'karbon', 'industri', 'busana', 'dan', 'penumpukan', 'limbah', 'yang', 'merusak', 'lingkungan', '.', '\\n\\n', '\"', 'Gambaran', 'serupa', 'juga', 'kita', 'temukan', 'di', 'industri', 'pangan', 'dunia', 'yang', 'saat', 'ini', 'digerakkan', 'ole', 'model', 'pertanian', 'monokultur', ',', 'model', 'pertanian', 'ini', 'mengejar', 'peningkatan', 'laba', 'dengan', 'mengorbankan', 'tingkat', 'nutrisi', 'ataupun', 'daya', 'dukung', 'lingkungan', ',', '\"', 'jelas', 'Hilmar', '.', '\\n\\n', 'Begitu', 'juga', 'industri', 'papan', 'global', 'yang', 'saat', 'ini', 'digerakkan', 'oleh', 'sepenuhnya', 'oleh', 'pasar', 'dan', 'tercipta', 'keseragaman', '.', 'Menurutnya', ',', 'pecinta', 'gaya', 'hidup', 'itu', 'berarti', 'meningaalkan', 'praktek', 'yang', 'tidak', 'berkelanjutan', 'dalam', 'sandang', ',', 'pangan', 'dan', 'papan', '.', '\\n\\n', '\"', 'Dan', 'disinilah', 'kebudayaan', 'menjadi', 'sumber', 'budaya', 'dan', 'sumber', 'inspirasi', '.', 'PKN', '20201', 'hadir', 'untuk', 'mengawali', 'perubahan', 'gaya', 'hidup', ',', 'putar', 'haluan', 'dari', 'segala', 'gaya', 'hidup', 'lama', 'yang', 'tidak', 'berkelanjutan', ',', 'temukan', 'arus', 'kebudayaan', 'dari', 'bawah', 'yang', 'akan', 'melontarkan', 'kita', 'ke', 'masa', 'depan', 'maju', ',', 'ke', 'cerah', 'hidup', 'baru', 'yang', 'bereklanjutan', ',', '\"', 'pungkasnya', '.', '(', 'H', '-', '2', ')']\n"
          ]
        }
      ]
    },
    {
      "cell_type": "code",
      "metadata": {
        "colab": {
          "base_uri": "https://localhost:8080/",
          "height": 35
        },
        "id": "7bkwAo40nXjM",
        "outputId": "365378dd-f641-4d06-a3ad-5735ae051ab0"
      },
      "source": [
        "punctuation = punctuation + '\\n'\n",
        "punctuation"
      ],
      "execution_count": null,
      "outputs": [
        {
          "output_type": "execute_result",
          "data": {
            "application/vnd.google.colaboratory.intrinsic+json": {
              "type": "string"
            },
            "text/plain": [
              "'!\"#$%&\\'()*+,-./:;<=>?@[\\\\]^_`{|}~\\n\\n\\n\\n'"
            ]
          },
          "metadata": {},
          "execution_count": 175
        }
      ]
    },
    {
      "cell_type": "code",
      "metadata": {
        "colab": {
          "base_uri": "https://localhost:8080/"
        },
        "id": "gsyXXxy5nkQb",
        "outputId": "e89cc82d-7943-4da4-fcb3-d96428abd942"
      },
      "source": [
        "word_frequencies = {}\n",
        "\n",
        "for word in doc:\n",
        "  if word.text.lower() not in stopwords:\n",
        "    if word.text.lower() not in punctuation:\n",
        "      if word.text not in word_frequencies.keys():\n",
        "        word_frequencies[word.text] = 1\n",
        "      else:\n",
        "        word_frequencies[word.text] += 1\n",
        "\n",
        "print(word_frequencies)"
      ],
      "execution_count": null,
      "outputs": [
        {
          "output_type": "stream",
          "name": "stdout",
          "text": [
            "{'KEBUDAYAAN': 1, 'merupakan': 2, 'cara': 1, 'menyatukan': 1, 'gerak': 1, 'langkah': 1, 'membangun': 1, 'Indonesia': 1, 'tangguh': 1, 'dan': 9, 'tumbuh': 1, 'Hal': 2, 'itu': 4, 'dikemukakan': 1, 'oleh': 4, 'Menteri': 1, 'Pendidikan': 1, 'Kebudayaan': 4, 'Riset': 1, 'Dan': 2, 'Teknologi': 1, 'Nadiem': 3, 'Makarim': 1, 'saat': 4, 'membuka': 1, 'Pekan': 2, 'Nasional': 2, '2021': 7, 'Senin': 1, '25': 1, '10': 1, 'malam': 1, 'Bersama': 2, 'sama': 1, 'kita': 4, 'telah': 2, 'melewati': 1, 'masa': 3, 'yang': 17, 'penuh': 1, 'dengan': 5, 'tantangan': 1, 'pula': 1, 'lompat': 1, 'ke': 3, 'harapan': 1, 'baru': 3, 'ucapnya': 2, 'memberikan': 1, 'sambutan': 1, 'dalam': 5, 'acara': 1, 'tema': 2, 'Cerlang': 2, 'Nusantara': 2, 'Pandu': 2, 'Masa': 2, 'Depan': 2, 'secara': 3, 'virtual': 1, 'zoom': 1, 'Pelaksanaan': 1, 'PKN': 9, 'akan': 2, 'dimulai': 1, 'pada': 1, '19': 2, '26': 1, 'November': 1, 'daring': 2, 'di': 5, 'website': 1, 'www.PKN.id': 1, 'Tahun': 1, 'ini': 8, 'menjadi': 3, 'tahun': 2, 'ketiga': 1, 'pagelaran': 1, 'akbar': 1, 'dilakukan': 1, 'dikarenakan': 1, 'pandemi': 1, 'covid': 1, 'mengatakan': 3, 'ruang': 1, 'kebudayaan': 3, 'inklusif': 1, 'inisiatif': 1, 'selama': 1, 'tersebar': 1, 'seluruh': 1, 'negeri': 1, 'Melalui': 1, 'hal': 2, 'tersebut': 1, 'waktu': 1, 'terbaik': 1, 'untuk': 3, 'merancang': 1, 'tata': 1, 'hidup': 6, 'lebih': 1, 'berkelanjutan': 4, 'berlandaskan': 1, 'budaya': 2, 'bangsa': 1, 'Semangat': 1, 'inilah': 1, 'terungkap': 1, 'melalui': 1, 'yakni': 2, 'Direktur': 1, 'Jenderal': 1, 'Kemendikbud': 1, 'Ristek': 1, 'Hilmar': 3, 'Farid': 1, 'kegiatan': 1, 'ditunjuk': 1, 'beberapa': 2, 'dewan': 1, 'kurator': 1, 'Samuel': 1, 'Wattimena': 1, 'sektor': 3, 'sandang': 3, 'Helianti': 1, 'Hilman': 1, 'pangan': 3, 'Gregorius': 1, 'Antar': 1, 'Awal': 1, 'papan': 3, 'juga': 3, 'melibatkan': 1, 'insan': 2, 'kreatif': 1, 'tayangannya': 1, 'seperti': 2, 'Riri': 1, 'Reza': 1, 'Pritagita': 1, 'Hanung': 1, 'Bramantyo': 1, 'Jay': 1, 'Subyakto': 1, 'Lasja': 1, 'Susatyo': 1, 'Ismael': 1, 'Basbeth': 1, 'Eugene': 1, 'Panji': 1, 'Robby': 1, 'ertanto': 1, 'Buyungreza': 1, 'Adrianto': 1, 'Sinaga': 1, 'Leon': 1, 'Lolang': 1, 'Richard': 1, 'Buntario': 1, 'Raymond': 1, 'Ahari': 1, 'Senada': 1, 'masalah': 1, 'utama': 1, 'disoroti': 1, 'adalah': 1, 'gaya': 4, 'pola': 2, 'konsumsi': 1, 'berlebihan': 1, 'ikut': 1, 'membentuk': 1, 'produksi': 1, 'tidak': 3, 'Menurutnya': 2, 'kebutuhan': 1, 'paling': 1, 'mendasar': 1, 'industri': 4, 'dewasa': 1, 'digerakkan': 3, 'model': 3, 'busana': 2, 'cepat': 1, 'atau': 1, 'fast': 1, 'fashion': 1, 'mendorong': 1, 'pergantian': 1, 'tren': 1, 'setiap': 1, 'minggu': 1, 'mengakibatkan': 1, 'tingginya': 1, 'biaya': 1, 'karbon': 1, 'penumpukan': 1, 'limbah': 1, 'merusak': 1, 'lingkungan': 2, 'Gambaran': 1, 'serupa': 1, 'temukan': 2, 'dunia': 1, 'ole': 1, 'pertanian': 2, 'monokultur': 1, 'mengejar': 1, 'peningkatan': 1, 'laba': 1, 'mengorbankan': 1, 'tingkat': 1, 'nutrisi': 1, 'ataupun': 1, 'daya': 1, 'dukung': 1, 'jelas': 1, 'Begitu': 1, 'global': 1, 'sepenuhnya': 1, 'pasar': 1, 'tercipta': 1, 'keseragaman': 1, 'pecinta': 1, 'berarti': 1, 'meningaalkan': 1, 'praktek': 1, 'disinilah': 1, 'sumber': 2, 'inspirasi': 1, '20201': 1, 'hadir': 1, 'mengawali': 1, 'perubahan': 1, 'putar': 1, 'haluan': 1, 'dari': 2, 'segala': 1, 'lama': 1, 'arus': 1, 'bawah': 1, 'melontarkan': 1, 'depan': 1, 'maju': 1, 'cerah': 1, 'bereklanjutan': 1, 'pungkasnya': 1, 'H': 1, '2': 1}\n"
          ]
        }
      ]
    },
    {
      "cell_type": "code",
      "metadata": {
        "colab": {
          "base_uri": "https://localhost:8080/"
        },
        "id": "C0HZEqYApHWs",
        "outputId": "b967fa94-df19-43ae-d7e0-b7a0f08dab6c"
      },
      "source": [
        "max_frequency = max(word_frequencies.values())\n",
        "max_frequency"
      ],
      "execution_count": null,
      "outputs": [
        {
          "output_type": "execute_result",
          "data": {
            "text/plain": [
              "17"
            ]
          },
          "metadata": {},
          "execution_count": 177
        }
      ]
    },
    {
      "cell_type": "code",
      "metadata": {
        "colab": {
          "base_uri": "https://localhost:8080/"
        },
        "id": "hZHm0E48uUR4",
        "outputId": "aefad2fe-6bd2-4b12-b1e6-a49b3dface26"
      },
      "source": [
        "for word in word_frequencies.keys():\n",
        "  word_frequencies[word] = word_frequencies[word]/max_frequency\n",
        "\n",
        "print(word_frequencies)"
      ],
      "execution_count": null,
      "outputs": [
        {
          "output_type": "stream",
          "name": "stdout",
          "text": [
            "{'KEBUDAYAAN': 0.058823529411764705, 'merupakan': 0.11764705882352941, 'cara': 0.058823529411764705, 'menyatukan': 0.058823529411764705, 'gerak': 0.058823529411764705, 'langkah': 0.058823529411764705, 'membangun': 0.058823529411764705, 'Indonesia': 0.058823529411764705, 'tangguh': 0.058823529411764705, 'dan': 0.5294117647058824, 'tumbuh': 0.058823529411764705, 'Hal': 0.11764705882352941, 'itu': 0.23529411764705882, 'dikemukakan': 0.058823529411764705, 'oleh': 0.23529411764705882, 'Menteri': 0.058823529411764705, 'Pendidikan': 0.058823529411764705, 'Kebudayaan': 0.23529411764705882, 'Riset': 0.058823529411764705, 'Dan': 0.11764705882352941, 'Teknologi': 0.058823529411764705, 'Nadiem': 0.17647058823529413, 'Makarim': 0.058823529411764705, 'saat': 0.23529411764705882, 'membuka': 0.058823529411764705, 'Pekan': 0.11764705882352941, 'Nasional': 0.11764705882352941, '2021': 0.4117647058823529, 'Senin': 0.058823529411764705, '25': 0.058823529411764705, '10': 0.058823529411764705, 'malam': 0.058823529411764705, 'Bersama': 0.11764705882352941, 'sama': 0.058823529411764705, 'kita': 0.23529411764705882, 'telah': 0.11764705882352941, 'melewati': 0.058823529411764705, 'masa': 0.17647058823529413, 'yang': 1.0, 'penuh': 0.058823529411764705, 'dengan': 0.29411764705882354, 'tantangan': 0.058823529411764705, 'pula': 0.058823529411764705, 'lompat': 0.058823529411764705, 'ke': 0.17647058823529413, 'harapan': 0.058823529411764705, 'baru': 0.17647058823529413, 'ucapnya': 0.11764705882352941, 'memberikan': 0.058823529411764705, 'sambutan': 0.058823529411764705, 'dalam': 0.29411764705882354, 'acara': 0.058823529411764705, 'tema': 0.11764705882352941, 'Cerlang': 0.11764705882352941, 'Nusantara': 0.11764705882352941, 'Pandu': 0.11764705882352941, 'Masa': 0.11764705882352941, 'Depan': 0.11764705882352941, 'secara': 0.17647058823529413, 'virtual': 0.058823529411764705, 'zoom': 0.058823529411764705, 'Pelaksanaan': 0.058823529411764705, 'PKN': 0.5294117647058824, 'akan': 0.11764705882352941, 'dimulai': 0.058823529411764705, 'pada': 0.058823529411764705, '19': 0.11764705882352941, '26': 0.058823529411764705, 'November': 0.058823529411764705, 'daring': 0.11764705882352941, 'di': 0.29411764705882354, 'website': 0.058823529411764705, 'www.PKN.id': 0.058823529411764705, 'Tahun': 0.058823529411764705, 'ini': 0.47058823529411764, 'menjadi': 0.17647058823529413, 'tahun': 0.11764705882352941, 'ketiga': 0.058823529411764705, 'pagelaran': 0.058823529411764705, 'akbar': 0.058823529411764705, 'dilakukan': 0.058823529411764705, 'dikarenakan': 0.058823529411764705, 'pandemi': 0.058823529411764705, 'covid': 0.058823529411764705, 'mengatakan': 0.17647058823529413, 'ruang': 0.058823529411764705, 'kebudayaan': 0.17647058823529413, 'inklusif': 0.058823529411764705, 'inisiatif': 0.058823529411764705, 'selama': 0.058823529411764705, 'tersebar': 0.058823529411764705, 'seluruh': 0.058823529411764705, 'negeri': 0.058823529411764705, 'Melalui': 0.058823529411764705, 'hal': 0.11764705882352941, 'tersebut': 0.058823529411764705, 'waktu': 0.058823529411764705, 'terbaik': 0.058823529411764705, 'untuk': 0.17647058823529413, 'merancang': 0.058823529411764705, 'tata': 0.058823529411764705, 'hidup': 0.35294117647058826, 'lebih': 0.058823529411764705, 'berkelanjutan': 0.23529411764705882, 'berlandaskan': 0.058823529411764705, 'budaya': 0.11764705882352941, 'bangsa': 0.058823529411764705, 'Semangat': 0.058823529411764705, 'inilah': 0.058823529411764705, 'terungkap': 0.058823529411764705, 'melalui': 0.058823529411764705, 'yakni': 0.11764705882352941, 'Direktur': 0.058823529411764705, 'Jenderal': 0.058823529411764705, 'Kemendikbud': 0.058823529411764705, 'Ristek': 0.058823529411764705, 'Hilmar': 0.17647058823529413, 'Farid': 0.058823529411764705, 'kegiatan': 0.058823529411764705, 'ditunjuk': 0.058823529411764705, 'beberapa': 0.11764705882352941, 'dewan': 0.058823529411764705, 'kurator': 0.058823529411764705, 'Samuel': 0.058823529411764705, 'Wattimena': 0.058823529411764705, 'sektor': 0.17647058823529413, 'sandang': 0.17647058823529413, 'Helianti': 0.058823529411764705, 'Hilman': 0.058823529411764705, 'pangan': 0.17647058823529413, 'Gregorius': 0.058823529411764705, 'Antar': 0.058823529411764705, 'Awal': 0.058823529411764705, 'papan': 0.17647058823529413, 'juga': 0.17647058823529413, 'melibatkan': 0.058823529411764705, 'insan': 0.11764705882352941, 'kreatif': 0.058823529411764705, 'tayangannya': 0.058823529411764705, 'seperti': 0.11764705882352941, 'Riri': 0.058823529411764705, 'Reza': 0.058823529411764705, 'Pritagita': 0.058823529411764705, 'Hanung': 0.058823529411764705, 'Bramantyo': 0.058823529411764705, 'Jay': 0.058823529411764705, 'Subyakto': 0.058823529411764705, 'Lasja': 0.058823529411764705, 'Susatyo': 0.058823529411764705, 'Ismael': 0.058823529411764705, 'Basbeth': 0.058823529411764705, 'Eugene': 0.058823529411764705, 'Panji': 0.058823529411764705, 'Robby': 0.058823529411764705, 'ertanto': 0.058823529411764705, 'Buyungreza': 0.058823529411764705, 'Adrianto': 0.058823529411764705, 'Sinaga': 0.058823529411764705, 'Leon': 0.058823529411764705, 'Lolang': 0.058823529411764705, 'Richard': 0.058823529411764705, 'Buntario': 0.058823529411764705, 'Raymond': 0.058823529411764705, 'Ahari': 0.058823529411764705, 'Senada': 0.058823529411764705, 'masalah': 0.058823529411764705, 'utama': 0.058823529411764705, 'disoroti': 0.058823529411764705, 'adalah': 0.058823529411764705, 'gaya': 0.23529411764705882, 'pola': 0.11764705882352941, 'konsumsi': 0.058823529411764705, 'berlebihan': 0.058823529411764705, 'ikut': 0.058823529411764705, 'membentuk': 0.058823529411764705, 'produksi': 0.058823529411764705, 'tidak': 0.17647058823529413, 'Menurutnya': 0.11764705882352941, 'kebutuhan': 0.058823529411764705, 'paling': 0.058823529411764705, 'mendasar': 0.058823529411764705, 'industri': 0.23529411764705882, 'dewasa': 0.058823529411764705, 'digerakkan': 0.17647058823529413, 'model': 0.17647058823529413, 'busana': 0.11764705882352941, 'cepat': 0.058823529411764705, 'atau': 0.058823529411764705, 'fast': 0.058823529411764705, 'fashion': 0.058823529411764705, 'mendorong': 0.058823529411764705, 'pergantian': 0.058823529411764705, 'tren': 0.058823529411764705, 'setiap': 0.058823529411764705, 'minggu': 0.058823529411764705, 'mengakibatkan': 0.058823529411764705, 'tingginya': 0.058823529411764705, 'biaya': 0.058823529411764705, 'karbon': 0.058823529411764705, 'penumpukan': 0.058823529411764705, 'limbah': 0.058823529411764705, 'merusak': 0.058823529411764705, 'lingkungan': 0.11764705882352941, 'Gambaran': 0.058823529411764705, 'serupa': 0.058823529411764705, 'temukan': 0.11764705882352941, 'dunia': 0.058823529411764705, 'ole': 0.058823529411764705, 'pertanian': 0.11764705882352941, 'monokultur': 0.058823529411764705, 'mengejar': 0.058823529411764705, 'peningkatan': 0.058823529411764705, 'laba': 0.058823529411764705, 'mengorbankan': 0.058823529411764705, 'tingkat': 0.058823529411764705, 'nutrisi': 0.058823529411764705, 'ataupun': 0.058823529411764705, 'daya': 0.058823529411764705, 'dukung': 0.058823529411764705, 'jelas': 0.058823529411764705, 'Begitu': 0.058823529411764705, 'global': 0.058823529411764705, 'sepenuhnya': 0.058823529411764705, 'pasar': 0.058823529411764705, 'tercipta': 0.058823529411764705, 'keseragaman': 0.058823529411764705, 'pecinta': 0.058823529411764705, 'berarti': 0.058823529411764705, 'meningaalkan': 0.058823529411764705, 'praktek': 0.058823529411764705, 'disinilah': 0.058823529411764705, 'sumber': 0.11764705882352941, 'inspirasi': 0.058823529411764705, '20201': 0.058823529411764705, 'hadir': 0.058823529411764705, 'mengawali': 0.058823529411764705, 'perubahan': 0.058823529411764705, 'putar': 0.058823529411764705, 'haluan': 0.058823529411764705, 'dari': 0.11764705882352941, 'segala': 0.058823529411764705, 'lama': 0.058823529411764705, 'arus': 0.058823529411764705, 'bawah': 0.058823529411764705, 'melontarkan': 0.058823529411764705, 'depan': 0.058823529411764705, 'maju': 0.058823529411764705, 'cerah': 0.058823529411764705, 'bereklanjutan': 0.058823529411764705, 'pungkasnya': 0.058823529411764705, 'H': 0.058823529411764705, '2': 0.058823529411764705}\n"
          ]
        }
      ]
    },
    {
      "cell_type": "code",
      "metadata": {
        "colab": {
          "base_uri": "https://localhost:8080/"
        },
        "id": "PkgHXsZEu-yc",
        "outputId": "0222e573-caa5-4ef4-99e2-a59f323b77ba"
      },
      "source": [
        "sentence_tokens = [sent for sent in teks.split('.')]\n",
        "print(sentence_tokens)"
      ],
      "execution_count": null,
      "outputs": [
        {
          "output_type": "stream",
          "name": "stdout",
          "text": [
            "['KEBUDAYAAN merupakan cara menyatukan gerak langkah membangun Indonesia tangguh dan tumbuh', ' Hal itu dikemukakan oleh Menteri Pendidikan Kebudayaan Riset Dan Teknologi Nadiem Makarim saat membuka Pekan Kebudayaan Nasional 2021, Senin (25/10) malam', '\\n\\n\"Bersama sama kita telah melewati masa masa yang penuh dengan tantangan dan Bersama pula kita lompat ke harapan yang baru,\" ucapnya saat memberikan sambutan dalam acara Pekan Kebudayaan Nasional 2021 dengan tema Cerlang Nusantara Pandu Masa Depan, secara virtual zoom', '\\n\\nPelaksanaan PKN 2021 akan dimulai pada 19-26 November 2021 secara daring di website www', 'PKN', 'id', ' Tahun ini menjadi tahun ketiga pagelaran akbar PKN itu dilakukan secara daring dikarenakan pandemi covid-19', '\\n\\nNadiem mengatakan, PKN 2021 merupakan ruang kebudayaan yang inklusif dan inisiatif yang selama ini tersebar di seluruh negeri', ' Melalui PKN, hal tersebut menjadi waktu terbaik untuk merancang tata hidup baru yang lebih berkelanjutan dengan berlandaskan budaya bangsa\\n\\n\"Semangat inilah yang terungkap melalui tema PKN 2021 yakni Cerlang Nusantara, Pandu Masa Depan,\" ucapnya', '\\n\\nDirektur Jenderal Kebudayaan Kemendikbud-Ristek, Hilmar Farid mengatakan dalam kegiatan PKN tahun ini telah ditunjuk beberapa dewan kurator, yakni Samuel Wattimena untuk sektor sandang, Helianti Hilman di sektor pangan, dan Gregorius Antar Awal di sektor papan', '\\n\\nPKN juga melibatkan insan-insan kreatif dalam tayangannya, seperti Riri Reza, Pritagita, Hanung Bramantyo, Jay Subyakto, Lasja Susatyo, Ismael Basbeth, Eugene Panji, Robby ertanto, Buyungreza, Adrianto Sinaga, Leon Lolang, Richard Buntario, Raymond Ahari', '\\n\\nSenada dengan Nadiem, Hilmar mengatakan, masalah utama yang disoroti dalam PKN 2021 adalah gaya hidup dan pola konsumsi yang berlebihan yang ikut membentuk pola produksi yang tidak berkelanjutan', '\\n\\nMenurutnya, kebutuhan paling mendasar seperti industri sandang, dewasa ini digerakkan oleh model busana cepat atau fast fashion', ' Hal itu mendorong pergantian tren setiap beberapa minggu, hal ini mengakibatkan tingginya biaya karbon industri busana dan penumpukan limbah yang merusak lingkungan', '\\n\\n\"Gambaran serupa juga kita temukan di industri pangan dunia yang saat ini digerakkan ole model pertanian monokultur, model pertanian ini mengejar peningkatan laba dengan mengorbankan tingkat nutrisi ataupun daya dukung lingkungan,\" jelas Hilmar', '\\n\\nBegitu juga industri papan global yang saat ini digerakkan oleh sepenuhnya oleh pasar dan tercipta keseragaman', ' Menurutnya, pecinta gaya hidup itu berarti meningaalkan praktek yang tidak berkelanjutan dalam sandang, pangan dan papan', '\\n\\n\"Dan disinilah kebudayaan menjadi sumber budaya dan sumber inspirasi', ' PKN 20201 hadir untuk mengawali perubahan gaya hidup, putar haluan dari segala gaya hidup lama yang tidak berkelanjutan, temukan arus kebudayaan dari bawah yang akan melontarkan kita ke masa depan maju, ke cerah hidup baru yang bereklanjutan,\" pungkasnya', ' (H-2)']\n"
          ]
        }
      ]
    },
    {
      "cell_type": "code",
      "metadata": {
        "id": "E5XT0HmCyth5",
        "colab": {
          "base_uri": "https://localhost:8080/",
          "height": 258
        },
        "outputId": "62275f1d-a602-49d5-d6b4-b575b2a2263b"
      },
      "source": [
        "sentence_scores = {}\n",
        "for sent in sentence_tokens:\n",
        "    for word in sent:\n",
        "        if word.text.lower() in word_frequencies.keys():\n",
        "            if sent not in sentence_scores.keys():\n",
        "                sentence_scores[sent] = word_frequencies[word.text.lower()]\n",
        "            else:\n",
        "                sentence_scores[sent] += word_frequencies[word.text.lower()]\n",
        "                \n",
        "sentence_scores"
      ],
      "execution_count": null,
      "outputs": [
        {
          "output_type": "error",
          "ename": "AttributeError",
          "evalue": "ignored",
          "traceback": [
            "\u001b[0;31m---------------------------------------------------------------------------\u001b[0m",
            "\u001b[0;31mAttributeError\u001b[0m                            Traceback (most recent call last)",
            "\u001b[0;32m<ipython-input-180-8eebc92acae6>\u001b[0m in \u001b[0;36m<module>\u001b[0;34m()\u001b[0m\n\u001b[1;32m      2\u001b[0m \u001b[0;32mfor\u001b[0m \u001b[0msent\u001b[0m \u001b[0;32min\u001b[0m \u001b[0msentence_tokens\u001b[0m\u001b[0;34m:\u001b[0m\u001b[0;34m\u001b[0m\u001b[0;34m\u001b[0m\u001b[0m\n\u001b[1;32m      3\u001b[0m     \u001b[0;32mfor\u001b[0m \u001b[0mword\u001b[0m \u001b[0;32min\u001b[0m \u001b[0msent\u001b[0m\u001b[0;34m:\u001b[0m\u001b[0;34m\u001b[0m\u001b[0;34m\u001b[0m\u001b[0m\n\u001b[0;32m----> 4\u001b[0;31m         \u001b[0;32mif\u001b[0m \u001b[0mword\u001b[0m\u001b[0;34m.\u001b[0m\u001b[0mtext\u001b[0m\u001b[0;34m.\u001b[0m\u001b[0mlower\u001b[0m\u001b[0;34m(\u001b[0m\u001b[0;34m)\u001b[0m \u001b[0;32min\u001b[0m \u001b[0mword_frequencies\u001b[0m\u001b[0;34m.\u001b[0m\u001b[0mkeys\u001b[0m\u001b[0;34m(\u001b[0m\u001b[0;34m)\u001b[0m\u001b[0;34m:\u001b[0m\u001b[0;34m\u001b[0m\u001b[0;34m\u001b[0m\u001b[0m\n\u001b[0m\u001b[1;32m      5\u001b[0m             \u001b[0;32mif\u001b[0m \u001b[0msent\u001b[0m \u001b[0;32mnot\u001b[0m \u001b[0;32min\u001b[0m \u001b[0msentence_scores\u001b[0m\u001b[0;34m.\u001b[0m\u001b[0mkeys\u001b[0m\u001b[0;34m(\u001b[0m\u001b[0;34m)\u001b[0m\u001b[0;34m:\u001b[0m\u001b[0;34m\u001b[0m\u001b[0;34m\u001b[0m\u001b[0m\n\u001b[1;32m      6\u001b[0m                 \u001b[0msentence_scores\u001b[0m\u001b[0;34m[\u001b[0m\u001b[0msent\u001b[0m\u001b[0;34m]\u001b[0m \u001b[0;34m=\u001b[0m \u001b[0mword_frequencies\u001b[0m\u001b[0;34m[\u001b[0m\u001b[0mword\u001b[0m\u001b[0;34m.\u001b[0m\u001b[0mtext\u001b[0m\u001b[0;34m.\u001b[0m\u001b[0mlower\u001b[0m\u001b[0;34m(\u001b[0m\u001b[0;34m)\u001b[0m\u001b[0;34m]\u001b[0m\u001b[0;34m\u001b[0m\u001b[0;34m\u001b[0m\u001b[0m\n",
            "\u001b[0;31mAttributeError\u001b[0m: 'str' object has no attribute 'text'"
          ]
        }
      ]
    },
    {
      "cell_type": "code",
      "metadata": {
        "id": "eAfdhIO07TKX"
      },
      "source": [
        "## Summarization with heapq\n",
        "from heapq import nlargest \n",
        "summarization_percentage = 0.3 #30% dari semula\n",
        "select_length = int(len(sentence_tokens) * summarization_percentage)\n",
        "select_length"
      ],
      "execution_count": null,
      "outputs": []
    },
    {
      "cell_type": "code",
      "metadata": {
        "id": "SRqPPJBlAO-v"
      },
      "source": [
        "summary = nlargest(select_length, sentence_scores, key = sentence_scores.get) #Membuat summary menggunakan teknik heapq dengan mengambil kalimat sebanyak sentence_length dengan skore yg paling besar"
      ],
      "execution_count": null,
      "outputs": []
    },
    {
      "cell_type": "code",
      "metadata": {
        "id": "zT-_LoMPAVQR"
      },
      "source": [
        "summary"
      ],
      "execution_count": null,
      "outputs": []
    },
    {
      "cell_type": "code",
      "metadata": {
        "id": "fUmbVMx2AWra"
      },
      "source": [
        "final_summary = [word.text for word in summary]\n",
        "summary = ' '.join(final_summary)"
      ],
      "execution_count": null,
      "outputs": []
    },
    {
      "cell_type": "code",
      "metadata": {
        "id": "7486i80GAYah"
      },
      "source": [
        "summary"
      ],
      "execution_count": null,
      "outputs": []
    },
    {
      "cell_type": "code",
      "metadata": {
        "id": "zG8F2rrFAaRk"
      },
      "source": [
        "print(f\"Jumlah kata sebelum dirangkum: {len(text)}\")\n",
        "print(f\"Jumlah kata setelah dirangkum: {len(summary)}\")"
      ],
      "execution_count": null,
      "outputs": []
    }
  ]
}